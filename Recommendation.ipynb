{
  "nbformat": 4,
  "nbformat_minor": 0,
  "metadata": {
    "colab": {
      "provenance": [],
      "collapsed_sections": [
        "nWaJ45dzWnVh",
        "tbXO6PEMWvzm",
        "13l2mbUgW3e6",
        "W-EK2qp-XBwq"
      ],
      "gpuType": "T4"
    },
    "kernelspec": {
      "name": "python3",
      "display_name": "Python 3"
    },
    "language_info": {
      "name": "python"
    }
  },
  "cells": [
    {
      "cell_type": "markdown",
      "source": [
        "# **Установка нужных версий для работы**"
      ],
      "metadata": {
        "id": "Lm7jrXSrWcpE"
      }
    },
    {
      "cell_type": "code",
      "source": [
        "!pip install polars==0.20.19 scipy==1.13.0 scikit-learn==1.4.1.post1 numpy==1.26.4 pandas==2.0.3 rapidfuzz~=3.8.1"
      ],
      "metadata": {
        "id": "vxGx7INgTX5s",
        "colab": {
          "base_uri": "https://localhost:8080/"
        },
        "outputId": "3f1f7aef-9cbc-42cf-8342-c84901f7befc"
      },
      "execution_count": null,
      "outputs": [
        {
          "output_type": "stream",
          "name": "stdout",
          "text": [
            "Requirement already satisfied: polars==0.20.19 in /usr/local/lib/python3.10/dist-packages (0.20.19)\n",
            "Requirement already satisfied: scipy==1.13.0 in /usr/local/lib/python3.10/dist-packages (1.13.0)\n",
            "Requirement already satisfied: scikit-learn==1.4.1.post1 in /usr/local/lib/python3.10/dist-packages (1.4.1.post1)\n",
            "Requirement already satisfied: numpy==1.26.4 in /usr/local/lib/python3.10/dist-packages (1.26.4)\n",
            "Collecting pandas==2.0.3\n",
            "  Downloading pandas-2.0.3-cp310-cp310-manylinux_2_17_x86_64.manylinux2014_x86_64.whl (12.3 MB)\n",
            "\u001b[2K     \u001b[90m━━━━━━━━━━━━━━━━━━━━━━━━━━━━━━━━━━━━━━━━\u001b[0m \u001b[32m12.3/12.3 MB\u001b[0m \u001b[31m78.6 MB/s\u001b[0m eta \u001b[36m0:00:00\u001b[0m\n",
            "\u001b[?25hRequirement already satisfied: rapidfuzz~=3.8.1 in /usr/local/lib/python3.10/dist-packages (3.8.1)\n",
            "Requirement already satisfied: joblib>=1.2.0 in /usr/local/lib/python3.10/dist-packages (from scikit-learn==1.4.1.post1) (1.4.2)\n",
            "Requirement already satisfied: threadpoolctl>=2.0.0 in /usr/local/lib/python3.10/dist-packages (from scikit-learn==1.4.1.post1) (3.5.0)\n",
            "Requirement already satisfied: python-dateutil>=2.8.2 in /usr/local/lib/python3.10/dist-packages (from pandas==2.0.3) (2.8.2)\n",
            "Requirement already satisfied: pytz>=2020.1 in /usr/local/lib/python3.10/dist-packages (from pandas==2.0.3) (2023.4)\n",
            "Requirement already satisfied: tzdata>=2022.1 in /usr/local/lib/python3.10/dist-packages (from pandas==2.0.3) (2024.1)\n",
            "Requirement already satisfied: six>=1.5 in /usr/local/lib/python3.10/dist-packages (from python-dateutil>=2.8.2->pandas==2.0.3) (1.16.0)\n",
            "Installing collected packages: pandas\n",
            "  Attempting uninstall: pandas\n",
            "    Found existing installation: pandas 2.2.1\n",
            "    Uninstalling pandas-2.2.1:\n",
            "      Successfully uninstalled pandas-2.2.1\n",
            "Successfully installed pandas-2.0.3\n"
          ]
        }
      ]
    },
    {
      "cell_type": "markdown",
      "source": [
        "# **Импорты**"
      ],
      "metadata": {
        "id": "nWaJ45dzWnVh"
      }
    },
    {
      "cell_type": "code",
      "execution_count": null,
      "metadata": {
        "id": "nJPOf0w9L_8C"
      },
      "outputs": [],
      "source": [
        "import polars as pl\n",
        "import numpy as np\n",
        "import pandas as pd\n",
        "from ast import literal_eval\n",
        "from sklearn.feature_extraction.text import TfidfVectorizer\n",
        "from sklearn.metrics.pairwise import linear_kernel\n",
        "from sklearn.metrics.pairwise import cosine_similarity\n",
        "from sklearn.feature_extraction.text import CountVectorizer\n",
        "from rapidfuzz import process\n",
        "from scipy.sparse import csr_matrix\n",
        "from sklearn.neighbors import NearestNeighbors"
      ]
    },
    {
      "cell_type": "markdown",
      "source": [
        "# **Директория с датасетом**"
      ],
      "metadata": {
        "id": "5oO25D3yeUbf"
      }
    },
    {
      "cell_type": "code",
      "source": [
        "from google.colab import drive\n",
        "drive.mount('/content/drive')"
      ],
      "metadata": {
        "id": "PrMzj6FfUW32",
        "colab": {
          "base_uri": "https://localhost:8080/"
        },
        "outputId": "e63af56d-974e-43a5-d443-d9f81d696dee"
      },
      "execution_count": null,
      "outputs": [
        {
          "output_type": "stream",
          "name": "stdout",
          "text": [
            "Drive already mounted at /content/drive; to attempt to forcibly remount, call drive.mount(\"/content/drive\", force_remount=True).\n"
          ]
        }
      ]
    },
    {
      "cell_type": "code",
      "source": [
        "DATASET_DIR = 'drive/MyDrive/dataset'"
      ],
      "metadata": {
        "id": "ZTtwBqYseYKF"
      },
      "execution_count": null,
      "outputs": []
    },
    {
      "cell_type": "markdown",
      "source": [
        "# **Простой алгоритм**"
      ],
      "metadata": {
        "id": "tbXO6PEMWvzm"
      }
    },
    {
      "cell_type": "code",
      "source": [
        "def weighted_rating(count, avg, quantile: pl.DataFrame, mean: pl.DataFrame):\n",
        "    quantile = float(quantile.head(1).row(0)[0])\n",
        "    return (count / (count + quantile) * avg) + (quantile / (quantile + count) * mean)"
      ],
      "metadata": {
        "id": "U9fDoKxVMSYW"
      },
      "execution_count": null,
      "outputs": []
    },
    {
      "cell_type": "code",
      "source": [
        "def get_content_simple_recs(movies_metadata: pl.DataFrame, head_count: int) -> pl.DataFrame:\n",
        "    \"\"\"\n",
        "    Функция, возвращающие общие рекомендации по фильмам, без уточняющих характеристик.\n",
        "    :param movies_metadata:\n",
        "    :param head_count: Количество фильмов, которые надо возвратить в итоговом дата фрейме\n",
        "    :return:\n",
        "    \"\"\"\n",
        "    # Получаем среднее значение оценок под фильмами\n",
        "    mean: pl.DataFrame = movies_metadata.select('vote_average').mean()\n",
        "    # Агрегируем столбцы этого DataFrame до квантиля 0.90.\n",
        "    quantile: pl.DataFrame = movies_metadata.select('vote_count').quantile(0.90)\n",
        "    # Получаем дата фрейм из значений количества голосов больше квантиля\n",
        "    q_movies: pl.DataFrame = movies_metadata.filter(pl.col('vote_count') >= quantile)\n",
        "    # Дописываем столбец со взвешенным рейтингом, название столбца - 'score'\n",
        "    q_movies: pl.DataFrame = q_movies.with_columns(\n",
        "        weighted_rating(\n",
        "            pl.col('vote_count'),\n",
        "            pl.col('vote_average'),\n",
        "            quantile,\n",
        "            mean\n",
        "        ).alias('Оценка алгоритма'),\n",
        "        pl.col('title').alias('Название'),\n",
        "        pl.col('vote_count').alias('Количество оценок'),\n",
        "        pl.col('vote_average').alias('Средняя оценка')\n",
        "    )\n",
        "    # Сортируем дата фрейм по убыванию взвешенного рейтинга\n",
        "    q_movies: pl.DataFrame = q_movies.sort('Оценка алгоритма', descending=True)\n",
        "    return q_movies[['Название', 'Количество оценок', 'Средняя оценка', 'Оценка алгоритма']].head(head_count)"
      ],
      "metadata": {
        "id": "YC4UmeJPMriU"
      },
      "execution_count": null,
      "outputs": []
    },
    {
      "cell_type": "markdown",
      "source": [
        "# **По содержанию**"
      ],
      "metadata": {
        "id": "hG5B7c1FWz9k"
      }
    },
    {
      "cell_type": "markdown",
      "source": [
        "# TF-IDF"
      ],
      "metadata": {
        "id": "13l2mbUgW3e6"
      }
    },
    {
      "cell_type": "code",
      "source": [
        "def get_content_tfidf_recs(movies_metadata: pl.DataFrame, title: str) -> pl.DataFrame:\n",
        "    tfidf: TfidfVectorizer = TfidfVectorizer(stop_words='english')\n",
        "    movies_metadata: pl.DataFrame = movies_metadata.with_columns(\n",
        "        pl.col('overview').fill_null('')\n",
        "    ).drop('vote_average', 'vote_count')\n",
        "    overview_series: pl.Series = movies_metadata.select('overview').to_series()\n",
        "\n",
        "    # Составляем матрицу TF-IDF\n",
        "    from scipy.sparse import csr_matrix\n",
        "    tfidf_matrix: csr_matrix = tfidf.fit_transform(overview_series)\n",
        "    cosine_sim: np.ndarray = linear_kernel(tfidf_matrix, tfidf_matrix)\n",
        "    movies_metadata = movies_metadata.with_row_index(\"index\")\n",
        "    # Получаем индекс фильма, название которого совпадает с заданным\n",
        "    expr: pl.Expr = pl.all_horizontal(\n",
        "        pl.col('title') == title\n",
        "    )\n",
        "    idx = movies_metadata.row(by_predicate=expr, named=True)['index']\n",
        "    # Получаем попарную схожесть всех фильмов с фильмом, который нам дан\n",
        "    sim_scores = list(enumerate(cosine_sim[idx]))\n",
        "    # Сортируем фильмы на основании очков схожести\n",
        "    sim_scores = sorted(sim_scores, key=lambda x: x[1], reverse=True)\n",
        "\n",
        "    # Получаем очки для 10 самых похожих фильмов\n",
        "    sim_scores = sim_scores[1:11]\n",
        "\n",
        "    # Получаем индексы фильмов\n",
        "    movie_indices = [i[0] for i in sim_scores]\n",
        "    return movies_metadata.select('title')[movie_indices]"
      ],
      "metadata": {
        "id": "L5VvxhIPMt5b"
      },
      "execution_count": null,
      "outputs": []
    },
    {
      "cell_type": "markdown",
      "source": [
        "# По ключевым словам"
      ],
      "metadata": {
        "id": "W-EK2qp-XBwq"
      }
    },
    {
      "cell_type": "code",
      "source": [
        "def get_director(x):\n",
        "    for i in x:\n",
        "        if i['job'] == 'Director':\n",
        "            return i['name']\n",
        "    return np.nan\n",
        "\n",
        "\n",
        "def get_list(x):\n",
        "    if isinstance(x, list):\n",
        "        names = [i['name'] for i in x]\n",
        "        if len(names) > 3:\n",
        "            names = names[:3]\n",
        "        return names\n",
        "\n",
        "    return []\n",
        "\n",
        "\n",
        "def clean_data(x):\n",
        "    if isinstance(x, list):\n",
        "        return [str.lower(i.replace(\" \", \"\")) for i in x]\n",
        "    else:\n",
        "        # Проверяем что директор существует. Если нет, возвращаем пустую строку\n",
        "        if isinstance(x, str):\n",
        "            return str.lower(x.replace(\" \", \"\"))\n",
        "        else:\n",
        "            return ''\n",
        "\n",
        "\n",
        "def get_recommendations(title, metadata: pd.DataFrame, indices, cosine_sim):\n",
        "    idx = indices[title]\n",
        "    sim_scores = list(enumerate(cosine_sim[idx]))\n",
        "    sim_scores = sorted(sim_scores, key=lambda x: x[1], reverse=True)\n",
        "    sim_scores = sim_scores[1:11]\n",
        "    movie_indices = [i[0] for i in sim_scores]\n",
        "    return metadata['title'].iloc[movie_indices]\n",
        "\n",
        "\n",
        "def create_soup(x):\n",
        "    return ' '.join(str(x['keywords'])) + ' ' + ' '.join(str(x['cast'])) + ' ' + str(x['director']) + ' ' + ' '.join(str(x['genres']))\n",
        "\n",
        "\n",
        "def get_content_keywords_recs(\n",
        "        title: str\n",
        ") -> pd.DataFrame:\n",
        "    metadata = pd.read_csv(f'{DATASET_DIR}/movies_metadata.csv', low_memory=False)\n",
        "    credits = pd.read_csv(f'{DATASET_DIR}/credits.csv', nrows=15000)\n",
        "    keywords = pd.read_csv(f'{DATASET_DIR}/keywords.csv')\n",
        "    # Сломанные записи\n",
        "    metadata = metadata.drop([19730, 29503, 35587])\n",
        "    keywords['id'] = keywords['id'].astype('int')\n",
        "    credits['id'] = credits['id'].astype('int')\n",
        "    metadata['id'] = metadata['id'].astype('int')\n",
        "    metadata = metadata.merge(credits, on='id')\n",
        "    metadata = metadata.merge(keywords, on='id')\n",
        "\n",
        "    features = ['cast', 'crew', 'keywords', 'genres']\n",
        "\n",
        "    for feature in features:\n",
        "        metadata[feature] = metadata[feature].apply(literal_eval)\n",
        "    metadata['director'] = metadata['crew'].apply(get_director)\n",
        "    for feature in features:\n",
        "        metadata[feature] = metadata[feature].apply(get_list)\n",
        "    for feature in features:\n",
        "        metadata[feature] = metadata[feature].apply(clean_data)\n",
        "    metadata['soup'] = metadata.apply(create_soup, axis=1)\n",
        "    count = CountVectorizer(stop_words='english')\n",
        "    count_matrix = count.fit_transform(metadata['soup'])\n",
        "    cosine_sim = cosine_similarity(count_matrix, count_matrix)\n",
        "    metadata = metadata.reset_index()\n",
        "    indices = pd.Series(metadata.index, index=metadata['title'])\n",
        "    return get_recommendations(title, metadata, indices, cosine_sim)"
      ],
      "metadata": {
        "id": "vdsY72G7NjgP"
      },
      "execution_count": null,
      "outputs": []
    },
    {
      "cell_type": "markdown",
      "source": [
        "# **Коллаборативная фильтрация**"
      ],
      "metadata": {
        "id": "D8fAdCJNdOj2"
      }
    },
    {
      "cell_type": "markdown",
      "source": [
        "# K ближайших соседей"
      ],
      "metadata": {
        "id": "oI7ec4Pp-sHE"
      }
    },
    {
      "cell_type": "code",
      "source": [
        "def get_collaborative_knn_recs(movie_names: pd.DataFrame, ratings_data: pd.DataFrame, movie_name: str):\n",
        "    # Дата фрейм с названием фильма и его жанром\n",
        "    movie_names = movie_names[['title', 'genres']]\n",
        "    # Дата фрейм, в котором\n",
        "    movies_users: pd.DataFrame = ratings_data.pivot(index=['userId'], columns=['movieId'], values='rating').fillna(0)\n",
        "    # Преобразовываем в разреженную матрицу (CSR)\n",
        "    mat_movies_users: csr_matrix = csr_matrix(movies_users.values)\n",
        "    model_knn: NearestNeighbors = NearestNeighbors(metric='cosine', algorithm='auto', n_neighbors=30, n_jobs=-1)\n",
        "    model_knn.fit(mat_movies_users)\n",
        "    movie_index: int = process.extractOne(movie_name, movie_names['title'])[2]\n",
        "    distances, indices = model_knn.kneighbors(mat_movies_users[movie_index], n_neighbors=20)\n",
        "    recc_movie_indices: list = sorted(list(zip(indices.squeeze().tolist(), distances.squeeze().tolist())),\n",
        "                                      key=lambda x: x[1])[:0:-1]\n",
        "    # Список с рекомендациями\n",
        "    recommend_list = []\n",
        "    # На каждый индекс рекомендаций\n",
        "    for val in recc_movie_indices:\n",
        "        # Добавляем в датафрейм рекомендаций названий фильма и расстояние\n",
        "        recommend_list.append({'Title': movie_names['title'][val[0]], 'Distance': val[1]})\n",
        "    # Датафрейм с рекомендациями\n",
        "    df = pd.DataFrame(recommend_list, index=range(1, 20))\n",
        "    return df"
      ],
      "metadata": {
        "id": "k1lyHcQVdVkz"
      },
      "execution_count": null,
      "outputs": []
    },
    {
      "cell_type": "markdown",
      "source": [
        "# SVD"
      ],
      "metadata": {
        "id": "CS8QlHQD-xHC"
      }
    },
    {
      "cell_type": "code",
      "source": [
        "def get_collaborative_svd_recs(user_id: int, num_recommendations: int):\n",
        "    movies_df: pd.DataFrame = pd.read_csv(f'{DATASET_DIR}/movies_metadata.csv', low_memory=True, encoding='latin-1')\n",
        "    movies_df.drop(columns=['budget'])\n",
        "    movies_df = movies_df.drop([19730, 29503, 35587]).head(80000)\n",
        "    movies_df.rename(columns={'id': 'movieId'}, inplace=True)\n",
        "    ratings_df: pd.DataFrame = pd.read_csv(f'{DATASET_DIR}/ratings.csv', encoding='latin-1').head(270000)\n",
        "    ratings_df['movieId'] = ratings_df['movieId'].astype(int)\n",
        "    movies_df['movieId'] = movies_df['movieId'].astype(int)\n",
        "    # Merge the two datasets\n",
        "    #movies_df.index = movies_df['movieId']\n",
        "    #ratings_df.index = ratings_df['movieId']\n",
        "    df: pd.DataFrame = pd.merge(ratings_df, movies_df, on=\"movieId\")\n",
        "    pivot_table: pd.DataFrame = df.pivot_table(index=\"userId\", columns=\"title\", values=\"rating\")\n",
        "    pivot_table = pivot_table.dropna(axis='columns', thresh=2)\n",
        "    overall_mean = pivot_table.mean(axis=1)\n",
        "    # Fill missing values with the mean rating\n",
        "    pivot_table.fillna(overall_mean, axis='index', inplace=True)\n",
        "    from scipy.sparse.linalg import svds\n",
        "    pivot_np = pivot_table.to_numpy(na_value=2.5)\n",
        "    U, sigma, Vt = svds(pivot_np, k=1)\n",
        "    user_item_matrix = sigma * Vt.T\n",
        "    user_rating_vector = user_item_matrix[user_id - 1]\n",
        "    similarity_scores = np.corrcoef(user_rating_vector, user_item_matrix)[0, 1:]\n",
        "    top_movies = np.argsort(similarity_scores)[::-1][:num_recommendations]\n",
        "    return movies_df.iloc[top_movies][\"title\"]"
      ],
      "metadata": {
        "id": "p6G722eQ-z-P"
      },
      "execution_count": null,
      "outputs": []
    },
    {
      "cell_type": "markdown",
      "source": [
        "# **Песочница**"
      ],
      "metadata": {
        "id": "U4PurAp4XbF-"
      }
    },
    {
      "cell_type": "code",
      "source": [
        "movies_df: pl.DataFrame = (pl.read_csv(f'{DATASET_DIR}/movies_metadata.csv', infer_schema_length=100000)\n",
        "                               .select(pl.col(\"title\", \"overview\", \"vote_average\", \"vote_count\", \"genres\"))).head(30000)"
      ],
      "metadata": {
        "id": "a0r4TCU2N400"
      },
      "execution_count": null,
      "outputs": []
    },
    {
      "cell_type": "code",
      "source": [
        "user_ratings_df: pl.DataFrame = (pl.read_csv(f'{DATASET_DIR}/ratings_small.csv')\n",
        "                                     .select(pl.col(\"userId\", \"movieId\", \"rating\"))).head(100000)"
      ],
      "metadata": {
        "id": "TVEU0zzUPr45"
      },
      "execution_count": null,
      "outputs": []
    },
    {
      "cell_type": "code",
      "source": [
        "print(\"---Результат работы простейшего алгоритма---\")\n",
        "print(get_content_simple_recs(movies_df, 10))"
      ],
      "metadata": {
        "colab": {
          "base_uri": "https://localhost:8080/"
        },
        "id": "PastYofVP25_",
        "outputId": "d86a1fb5-bbe9-4840-fb57-0f1f70aa7cc6"
      },
      "execution_count": null,
      "outputs": [
        {
          "output_type": "stream",
          "name": "stdout",
          "text": [
            "---Результат работы простейшего алгоритма---\n",
            "shape: (10, 4)\n",
            "┌─────────────────────────────┬───────────────────┬────────────────┬──────────────────┐\n",
            "│ Название                    ┆ Количество оценок ┆ Средняя оценка ┆ Оценка алгоритма │\n",
            "│ ---                         ┆ ---               ┆ ---            ┆ ---              │\n",
            "│ str                         ┆ i64               ┆ f64            ┆ f64              │\n",
            "╞═════════════════════════════╪═══════════════════╪════════════════╪══════════════════╡\n",
            "│ The Shawshank Redemption    ┆ 8358              ┆ 8.5            ┆ 8.418993         │\n",
            "│ The Godfather               ┆ 6024              ┆ 8.5            ┆ 8.388892         │\n",
            "│ The Dark Knight             ┆ 12269             ┆ 8.3            ┆ 8.24839          │\n",
            "│ Fight Club                  ┆ 9678              ┆ 8.3            ┆ 8.23493          │\n",
            "│ Pulp Fiction                ┆ 8670              ┆ 8.3            ┆ 8.227582         │\n",
            "│ Dilwale Dulhania Le Jayenge ┆ 661               ┆ 9.1            ┆ 8.171818         │\n",
            "│ Schindler's List            ┆ 4436              ┆ 8.3            ┆ 8.162248         │\n",
            "│ Whiplash                    ┆ 4376              ┆ 8.3            ┆ 8.160464         │\n",
            "│ Spirited Away               ┆ 3968              ┆ 8.3            ┆ 8.146989         │\n",
            "│ Life Is Beautiful           ┆ 3643              ┆ 8.3            ┆ 8.134238         │\n",
            "└─────────────────────────────┴───────────────────┴────────────────┴──────────────────┘\n"
          ]
        }
      ]
    },
    {
      "cell_type": "code",
      "source": [
        "print(\"---Результат работы алгоритма на базе TF-IDF---\")\n",
        "print(get_content_tfidf_recs(movies_df, 'The Dark Knight Rises').head(10))"
      ],
      "metadata": {
        "colab": {
          "base_uri": "https://localhost:8080/"
        },
        "id": "qC4sAdO3QEMe",
        "outputId": "8f11181e-7c8b-49c2-c9d5-38fd5dac66c0"
      },
      "execution_count": null,
      "outputs": [
        {
          "output_type": "stream",
          "name": "stdout",
          "text": [
            "---Результат работы алгоритма на базе TF-IDF---\n",
            "shape: (10, 1)\n",
            "┌───────────────────────────────────┐\n",
            "│ title                             │\n",
            "│ ---                               │\n",
            "│ str                               │\n",
            "╞═══════════════════════════════════╡\n",
            "│ The Dark Knight                   │\n",
            "│ Batman Forever                    │\n",
            "│ Batman Returns                    │\n",
            "│ Batman: Under the Red Hood        │\n",
            "│ Batman                            │\n",
            "│ Batman Unmasked: The Psychology … │\n",
            "│ Batman Beyond: Return of the Jok… │\n",
            "│ Batman: Year One                  │\n",
            "│ Batman: The Dark Knight Returns,… │\n",
            "│ Batman: Mask of the Phantasm      │\n",
            "└───────────────────────────────────┘\n"
          ]
        }
      ]
    },
    {
      "cell_type": "code",
      "source": [
        "print(\"---Результат работы алгоритма на базе заготовленных ключевых слов---\")\n",
        "print(get_content_keywords_recs('Jumanji').head(10))"
      ],
      "metadata": {
        "colab": {
          "base_uri": "https://localhost:8080/"
        },
        "id": "3xr8EH4NQIwC",
        "outputId": "699670d6-cffd-4b99-d774-5675261c351b"
      },
      "execution_count": null,
      "outputs": [
        {
          "output_type": "stream",
          "name": "stdout",
          "text": [
            "---Результат работы алгоритма на базе заготовленных ключевых слов---\n",
            "552                             The Pagemaster\n",
            "1953                  Honey, I Shrunk the Kids\n",
            "1993                             The Rocketeer\n",
            "2396                               October Sky\n",
            "4520                         Jurassic Park III\n",
            "7186                                   Hidalgo\n",
            "14875                              The Wolfman\n",
            "8302                 The Invisible Man Returns\n",
            "662                                  Space Jam\n",
            "868      Halloween: The Curse of Michael Myers\n",
            "Name: title, dtype: object\n"
          ]
        }
      ]
    },
    {
      "cell_type": "code",
      "source": [
        "print(\"---Результат работы алгоритма KNN ---\")\n",
        "print(get_collaborative_knn_recs(movies_df.to_pandas(), user_ratings_df.to_pandas(), 'Jumanji'))"
      ],
      "metadata": {
        "colab": {
          "base_uri": "https://localhost:8080/"
        },
        "id": "94MNjCHyY3-g",
        "outputId": "931e187f-b243-491c-b1e2-b6a6928b05f1"
      },
      "execution_count": null,
      "outputs": [
        {
          "output_type": "stream",
          "name": "stdout",
          "text": [
            "                                               Title  Distance\n",
            "1                                      Mr. Wonderful  0.523668\n",
            "2                         The Silences of the Palace  0.523338\n",
            "3                                         Tarantella  0.522694\n",
            "4                                 The Usual Suspects  0.519348\n",
            "5                                       Mi Vida Loca  0.516944\n",
            "6                                     Antonia's Line  0.505929\n",
            "7                             The Man without a Face  0.473188\n",
            "8                                          Boomerang  0.470424\n",
            "9                               Sleepless in Seattle  0.466811\n",
            "10                                         Pinocchio  0.462066\n",
            "11                       The Amazing Panda Adventure  0.461603\n",
            "12                                              Nell  0.452125\n",
            "13                                   Billy's Holiday  0.448570\n",
            "14                                         Desperado  0.441926\n",
            "15                                   Colonel Chabert  0.434887\n",
            "16  Brother Minister: The Assassination of Malcolm X  0.428748\n",
            "17                                    Batman Forever  0.426903\n",
            "18                                     Red Rock West  0.419258\n",
            "19                                  Muriel's Wedding  0.418472\n"
          ]
        }
      ]
    },
    {
      "cell_type": "code",
      "source": [
        "print(\"---Результат работы алгоритма SVD ---\")\n",
        "print(get_collaborative_svd_recs(1, 20))"
      ],
      "metadata": {
        "colab": {
          "base_uri": "https://localhost:8080/"
        },
        "id": "rp8N8uIy_oyS",
        "outputId": "7a4c5898-bb75-41f8-c7a3-973c345d84c4"
      },
      "execution_count": null,
      "outputs": [
        {
          "output_type": "stream",
          "name": "stdout",
          "text": [
            "---Результат работы алгоритма SVD ---\n"
          ]
        },
        {
          "output_type": "stream",
          "name": "stderr",
          "text": [
            "<ipython-input-13-07e071467c9f>:2: DtypeWarning: Columns (10) have mixed types. Specify dtype option on import or set low_memory=False.\n",
            "  movies_df: pd.DataFrame = pd.read_csv(f'{DATASET_DIR}/movies_metadata.csv', low_memory=True, encoding='latin-1')\n"
          ]
        },
        {
          "output_type": "stream",
          "name": "stdout",
          "text": [
            "2598                                          Lake Placid\n",
            "852                                               Bye-Bye\n",
            "870                               For Whom the Bell Tolls\n",
            "869                                            Wild Reeds\n",
            "868                                                Venice\n",
            "867                                              Liebelei\n",
            "866                                          Mother Night\n",
            "865                                         Twelfth Night\n",
            "864                 Halloween: The Curse of Michael Myers\n",
            "863                                           Baton Rouge\n",
            "862                                                 1-900\n",
            "861     The Land Before Time III: The Time of the Grea...\n",
            "860                                        Talk of Angels\n",
            "859                                           Bulletproof\n",
            "858                                                 Bogus\n",
            "857                                         Sweet Nothing\n",
            "856                                    The Trigger Effect\n",
            "855                                             First Kid\n",
            "854                              The Island of Dr. Moreau\n",
            "871                                The Philadelphia Story\n",
            "Name: title, dtype: object\n"
          ]
        },
        {
          "output_type": "stream",
          "name": "stderr",
          "text": [
            "/usr/local/lib/python3.10/dist-packages/numpy/lib/function_base.py:2889: RuntimeWarning: Degrees of freedom <= 0 for slice\n",
            "  c = cov(x, y, rowvar, dtype=dtype)\n",
            "/usr/local/lib/python3.10/dist-packages/numpy/lib/function_base.py:2748: RuntimeWarning: divide by zero encountered in divide\n",
            "  c *= np.true_divide(1, fact)\n",
            "/usr/local/lib/python3.10/dist-packages/numpy/lib/function_base.py:2748: RuntimeWarning: invalid value encountered in multiply\n",
            "  c *= np.true_divide(1, fact)\n"
          ]
        }
      ]
    }
  ]
}